{
 "cells": [
  {
   "cell_type": "code",
   "execution_count": 1,
   "metadata": {},
   "outputs": [],
   "source": [
    "import pandas as pd\n",
    "from astropy import io,table\n",
    "import numpy as np\n",
    "import matplotlib.pyplot as plt\n",
    "import matplotlib as mplt"
   ]
  },
  {
   "cell_type": "code",
   "execution_count": 2,
   "metadata": {},
   "outputs": [],
   "source": [
    "plt.style.use([\"default\"])\n",
    "plt.rcParams['figure.figsize'] = 8.0,8.0\n",
    "font = {\"size\"   :18}\n",
    "plt.rc(\"font\",**font)"
   ]
  },
  {
   "cell_type": "code",
   "execution_count": 3,
   "metadata": {},
   "outputs": [],
   "source": [
    "allstar = table.Table(io.fits.open('GALAH_DR3_main_allstar_v2.fits', mode='update')[1].data)\n",
    "alls = allstar.to_pandas()"
   ]
  },
  {
   "cell_type": "code",
   "execution_count": 4,
   "metadata": {},
   "outputs": [],
   "source": [
    "vac_gaia = table.Table(io.fits.open(\"GALAH_DR3_VAC_GaiaEDR3_v2.fits\",mode=\"update\")[1].data)\n",
    "gaia = vac_gaia.to_pandas()"
   ]
  },
  {
   "cell_type": "code",
   "execution_count": 5,
   "metadata": {},
   "outputs": [],
   "source": [
    "fits_din = table.Table(io.fits.open(\"GALAH_DR3_VAC_dynamics_v2.fits\",mode=\"update\")[1].data)\n",
    "var_din = fits_din.to_pandas()"
   ]
  },
  {
   "cell_type": "code",
   "execution_count": 6,
   "metadata": {},
   "outputs": [],
   "source": [
    "#Subset for only columns needed for Hertzsprung-Russell diagram and chemical abundances \n",
    "hr = alls[[\"sobject_id\",\"teff\",\"e_teff\",\"logg\",\"e_logg\",\"Al_fe\",\"fe_h\",\"Mg_fe\"]]"
   ]
  },
  {
   "cell_type": "code",
   "execution_count": null,
   "metadata": {},
   "outputs": [],
   "source": [
    "gaia[\"ph\"]"
   ]
  },
  {
   "cell_type": "code",
   "execution_count": 7,
   "metadata": {},
   "outputs": [],
   "source": [
    "#Subset for only Coordinates and colors properties in Gaia\n",
    "dyn1 = gaia[[\"sobject_id\",\"ra\",\"ra_error\",\"dec\",\"dec_error\",\"parallax\",\n",
    "            \"parallax_error\",\"pmra\",\"pmra_error\",\"pmdec\",\"pmdec_error\",\"bp_rp\",\"bp_g\",\n",
    "           \"g_rp\",\"dr2_radial_velocity\",\"dr2_radial_velocity_error\",\"phot_bp_mean_mag\",\n",
    "            \"phot_g_mean_mag\",\"phot_rp_mean_mag\"]]"
   ]
  },
  {
   "cell_type": "code",
   "execution_count": 8,
   "metadata": {},
   "outputs": [],
   "source": [
    "#Subset for only coordinates and velocities that will going to be useful\n",
    "din1 = var_din[[\"sobject_id\",\"R_Rzphi\",\"phi_Rzphi\",\"z_Rzphi\",\"vR_Rzphi\",\n",
    "                \"vT_Rzphi\",\"vz_Rzphi\",\"J_R\",\"L_Z\",\"J_Z\",\"Energy\"]]"
   ]
  },
  {
   "cell_type": "code",
   "execution_count": 9,
   "metadata": {},
   "outputs": [],
   "source": [
    "merge1 = hr.merge(dyn1,how=\"inner\",on=\"sobject_id\")\n",
    "merge2 = merge1.merge(din1,how=\"inner\",on=\"sobject_id\")"
   ]
  },
  {
   "cell_type": "code",
   "execution_count": 10,
   "metadata": {},
   "outputs": [],
   "source": [
    "clean1 = merge2.loc[merge2[\"vR_Rzphi\"].notna()]\n",
    "clean2 = clean1.loc[(clean1[\"teff\"].notna())&(clean1[\"logg\"].notna())]\n"
   ]
  },
  {
   "cell_type": "code",
   "execution_count": 11,
   "metadata": {},
   "outputs": [
    {
     "name": "stderr",
     "output_type": "stream",
     "text": [
      "/tmp/ipykernel_2441/3648064646.py:1: SettingWithCopyWarning: \n",
      "A value is trying to be set on a copy of a slice from a DataFrame.\n",
      "Try using .loc[row_indexer,col_indexer] = value instead\n",
      "\n",
      "See the caveats in the documentation: https://pandas.pydata.org/pandas-docs/stable/user_guide/indexing.html#returning-a-view-versus-a-copy\n",
      "  clean2[\"par/error\"] = clean2[\"parallax\"]/clean2[\"parallax_error\"]\n"
     ]
    }
   ],
   "source": [
    "clean2[\"par/error\"] = clean2[\"parallax\"]/clean2[\"parallax_error\"]\n",
    "clean2 = clean2.loc[clean2[\"par/error\"] >= 5]"
   ]
  },
  {
   "cell_type": "code",
   "execution_count": 12,
   "metadata": {},
   "outputs": [
    {
     "name": "stderr",
     "output_type": "stream",
     "text": [
      "/tmp/ipykernel_2441/3214442858.py:1: SettingWithCopyWarning: \n",
      "A value is trying to be set on a copy of a slice from a DataFrame.\n",
      "Try using .loc[row_indexer,col_indexer] = value instead\n",
      "\n",
      "See the caveats in the documentation: https://pandas.pydata.org/pandas-docs/stable/user_guide/indexing.html#returning-a-view-versus-a-copy\n",
      "  clean2[\"distance\"] = 1/(clean2[\"parallax\"])\n"
     ]
    }
   ],
   "source": [
    "clean2[\"distance\"] = 1/(clean2[\"parallax\"])"
   ]
  },
  {
   "cell_type": "code",
   "execution_count": 13,
   "metadata": {},
   "outputs": [],
   "source": [
    "giants = clean2.loc[(clean2[\"teff\"] <= 6000) & (clean2[\"logg\"] <= 3.5)]"
   ]
  },
  {
   "cell_type": "code",
   "execution_count": 27,
   "metadata": {},
   "outputs": [],
   "source": [
    "solar_vec = clean2.loc[(clean2[\"distance\"] < 3/10)]"
   ]
  },
  {
   "cell_type": "code",
   "execution_count": 20,
   "metadata": {},
   "outputs": [],
   "source": [
    "giants.to_csv(\"giants.csv\",header=True,index=False)"
   ]
  },
  {
   "cell_type": "code",
   "execution_count": 21,
   "metadata": {},
   "outputs": [],
   "source": [
    "clean2.to_csv(\"complete.csv\",header=True,index=False)"
   ]
  },
  {
   "cell_type": "code",
   "execution_count": 28,
   "metadata": {},
   "outputs": [],
   "source": [
    "solar_vec.to_csv(\"solarnei.csv\",header=True,index=False)"
   ]
  },
  {
   "cell_type": "code",
   "execution_count": null,
   "metadata": {},
   "outputs": [],
   "source": []
  }
 ],
 "metadata": {
  "interpreter": {
   "hash": "916dbcbb3f70747c44a77c7bcd40155683ae19c65e1c03b4aa3499c5328201f1"
  },
  "kernelspec": {
   "display_name": "Python 3 (ipykernel)",
   "language": "python",
   "name": "python3"
  },
  "language_info": {
   "codemirror_mode": {
    "name": "ipython",
    "version": 3
   },
   "file_extension": ".py",
   "mimetype": "text/x-python",
   "name": "python",
   "nbconvert_exporter": "python",
   "pygments_lexer": "ipython3",
   "version": "3.8.10"
  }
 },
 "nbformat": 4,
 "nbformat_minor": 2
}
